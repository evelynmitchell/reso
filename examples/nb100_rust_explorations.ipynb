{
 "cells": [
  {
   "cell_type": "markdown",
   "id": "532f55d1-f2d3-4dcd-929a-71ad1f5de436",
   "metadata": {
    "tags": []
   },
   "source": [
    "# Rust Explorations\n",
    "\n",
    "I want to reimplement Reso in Rust. I want to do this *before* looking at other implementations, for my own sake.\n",
    "\n",
    "Having zero Rust experience, I need to get the following out of the way:\n",
    "\n",
    "- [ ] Loading images\n",
    "- [ ] Identifying contiguous regions in them\n",
    "- [ ] Basic unit testing\n",
    "- [ ] Expand this TODO list.\n",
    "\n",
    "\n",
    "etc. Of course, test-driven development is the ideal path, but I don't have the Rust experience for even that!\n",
    "\n",
    "The order of reimplementation would look like this:\n",
    "\n",
    "- [ ] regionmapper.py\n",
    "- [ ] palette.py\n",
    "- [ ] resoboard.py\n",
    "- [ ] reso.py\n"
   ]
  },
  {
   "cell_type": "markdown",
   "id": "8fb411b0-ecd7-45ac-ba61-a55f45ccb71b",
   "metadata": {},
   "source": [
    "\n",
    "---\n",
    "\n",
    "# Working with images\n",
    "\n",
    "It seems PNG handling isn't part of Rust's stdlib, so we need to use some crate. Many implementations exist, but it seems `png` and `image` are the most used.\n",
    "\n",
    "So... I want to install `image`. How do I do this? The install instructions say to add `image = \"0.24.0\"` to my cargo.toml?\n",
    "\n",
    "Shoot. How do I do work with `Cargo.toml`?"
   ]
  },
  {
   "cell_type": "markdown",
   "id": "46ffdc24-d376-4607-9e65-0698ac3882ec",
   "metadata": {},
   "source": [
    "## Install `image`\n",
    "\n",
    "Without knowing all the vocabulary for this, and with Google being bad in 2022, this is surprisingly hard. Every step's a roadblock when you're crawling like I am. Let's keep crawling!\n",
    "\n",
    "There is [a nice blogpost by Josh Kuhn on using EVCXR notebooks](https://blog.abor.dev/p/evcxr) that briefly covers this."
   ]
  },
  {
   "cell_type": "code",
   "execution_count": 3,
   "id": "5101f548-ec32-43d1-a410-b769ab77b817",
   "metadata": {},
   "outputs": [],
   "source": [
    ":dep image = {version = \"0.24.0\"}"
   ]
  },
  {
   "cell_type": "markdown",
   "id": "8f53c3a2-3dcd-4980-8d56-a1ce6f228dd7",
   "metadata": {},
   "source": [
    "... Wonderful. I am a RUST MASTER. This will be easy.\n",
    "\n",
    "\n",
    "## Working with images\n",
    "\n",
    "Oh man this is going to be hard.\n",
    "\n",
    "The approach in Python was to load this into an array of size `(W, H, 3)`, and then map it to enums of size `(W, H, 1)`, and then find adjacent regions that way.\n",
    "\n",
    "As I learn about Rust, I learn that it is *wicked* idiomatic and feature rich. Python's approach of English-language words (like \"`for element in iterable:`\") is replaced with an approach of super-terse wizard-strings of symbols.\n",
    "\n",
    "What I'm trying to say is I don't know how to read Rust or read Rust documentation yet :("
   ]
  },
  {
   "cell_type": "code",
   "execution_count": 4,
   "id": "a604a3b3-2060-45af-a5e6-d5ff2e46e85e",
   "metadata": {},
   "outputs": [],
   "source": [
    "use image::GenericImageView;"
   ]
  },
  {
   "cell_type": "code",
   "execution_count": 27,
   "id": "29f86f89-3aef-43e4-8941-eaa60761a196",
   "metadata": {},
   "outputs": [],
   "source": [
    "let img = image::open(\"region_mapper_test_image.png\");"
   ]
  },
  {
   "cell_type": "code",
   "execution_count": 28,
   "id": "e9d8f9a6-d3f4-4203-ad18-78a0fd19c9d3",
   "metadata": {},
   "outputs": [
    {
     "data": {
      "text/plain": [
       "ImageRgb8(ImageBuffer { width: 4, height: 7, _phantom: PhantomData, data: [255, 0, 0, 255, 255, 255, 0, 0, 0, 255, 0, 0, 255, 0, 0, 0, 0, 0, 255, 255, 255, 0, 255, 0, 255, 255, 255, 255, 0, 0, 0, 0, 255, 0, 255, 0, 255, 255, 255, 0, 0, 255, 0, 0, 255, 0, 255, 0, 0, 0, 255, 255, 255, 255, 0, 0, 0, 0, 255, 0, 255, 255, 255, 0, 0, 0, 255, 255, 255, 0, 255, 0, 0, 255, 0, 0, 255, 0, 0, 255, 0, 255, 255, 255] })"
      ]
     },
     "execution_count": 28,
     "metadata": {},
     "output_type": "execute_result"
    }
   ],
   "source": [
    "// It seems contextual help doesn't work\n",
    "// need to `let` again. img.unwrap() returns and destroys `img`\n",
    "let img = img.unwrap();\n",
    "img"
   ]
  },
  {
   "cell_type": "code",
   "execution_count": 29,
   "id": "4c38036e-e53e-4e0b-ae8a-f3c995079754",
   "metadata": {},
   "outputs": [
    {
     "data": {
      "text/plain": [
       "(4, 7)"
      ]
     },
     "execution_count": 29,
     "metadata": {},
     "output_type": "execute_result"
    }
   ],
   "source": [
    "img.dimensions()\n",
    "// img.dimensions() does not though"
   ]
  },
  {
   "cell_type": "code",
   "execution_count": 30,
   "id": "9d424b5d-ba85-4e74-aa19-d1fbe82c4d4d",
   "metadata": {},
   "outputs": [
    {
     "data": {
      "text/plain": [
       "ImageRgb8(ImageBuffer { width: 4, height: 7, _phantom: PhantomData, data: [255, 0, 0, 255, 255, 255, 0, 0, 0, 255, 0, 0, 255, 0, 0, 0, 0, 0, 255, 255, 255, 0, 255, 0, 255, 255, 255, 255, 0, 0, 0, 0, 255, 0, 255, 0, 255, 255, 255, 0, 0, 255, 0, 0, 255, 0, 255, 0, 0, 0, 255, 255, 255, 255, 0, 0, 0, 0, 255, 0, 255, 255, 255, 0, 0, 0, 255, 255, 255, 0, 255, 0, 0, 255, 0, 0, 255, 0, 0, 255, 0, 255, 255, 255] })"
      ]
     },
     "execution_count": 30,
     "metadata": {},
     "output_type": "execute_result"
    }
   ],
   "source": [
    "img"
   ]
  },
  {
   "cell_type": "code",
   "execution_count": 31,
   "id": "eecf97a3-9284-49f4-b2eb-0cb7558ed2d6",
   "metadata": {},
   "outputs": [
    {
     "data": {
      "text/plain": [
       "Rgba([255, 255, 255, 255])"
      ]
     },
     "execution_count": 31,
     "metadata": {},
     "output_type": "execute_result"
    }
   ],
   "source": [
    "img.get_pixel(2, 1)\n",
    "// x=2, y=1\n",
    "// three pixels right, two pixels down"
   ]
  },
  {
   "cell_type": "code",
   "execution_count": 32,
   "id": "486eeaa9-7c39-48b0-b438-78d409f274bb",
   "metadata": {},
   "outputs": [
    {
     "data": {
      "text/plain": [
       "Rgba([255, 255, 255, 255])"
      ]
     },
     "execution_count": 32,
     "metadata": {},
     "output_type": "execute_result"
    }
   ],
   "source": [
    "img.get_pixel(1, 0)\n",
    "// x=1, y=0"
   ]
  },
  {
   "cell_type": "code",
   "execution_count": 33,
   "id": "aafd47f1-3673-44c9-8e6d-c1340a31cab8",
   "metadata": {},
   "outputs": [
    {
     "data": {
      "text/plain": [
       "Rgba([255, 0, 0, 255])"
      ]
     },
     "execution_count": 33,
     "metadata": {},
     "output_type": "execute_result"
    }
   ],
   "source": [
    "img.get_pixel(0, 0)\n",
    "// top left pixel\n",
    "// ok, my mental model still works here"
   ]
  },
  {
   "cell_type": "code",
   "execution_count": 37,
   "id": "dadf7f7f-cdf1-410c-9531-d4260e9a529c",
   "metadata": {},
   "outputs": [
    {
     "data": {
      "text/plain": [
       "[[[0, 0, 0, 0, 0], [0, 0, 0, 0, 0], [0, 0, 0, 0, 0], [0, 0, 0, 0, 0]], [[0, 0, 0, 0, 0], [0, 0, 0, 0, 0], [0, 0, 0, 0, 0], [0, 0, 0, 0, 0]], [[0, 0, 0, 0, 0], [0, 0, 0, 0, 0], [0, 0, 0, 0, 0], [0, 0, 0, 0, 0]]]"
      ]
     },
     "execution_count": 37,
     "metadata": {},
     "output_type": "execute_result"
    }
   ],
   "source": [
    "let example_image = [[[0; 5]; 4]; 3];\n",
    "example_image\n",
    "// nope, that's wrong. other way around."
   ]
  },
  {
   "cell_type": "code",
   "execution_count": 38,
   "id": "d0cd4021-1751-48fd-ad6d-fefd80eb067e",
   "metadata": {},
   "outputs": [
    {
     "data": {
      "text/plain": [
       "[[[0, 0, 0], [0, 0, 0], [0, 0, 0], [0, 0, 0]], [[0, 0, 0], [0, 0, 0], [0, 0, 0], [0, 0, 0]], [[0, 0, 0], [0, 0, 0], [0, 0, 0], [0, 0, 0]], [[0, 0, 0], [0, 0, 0], [0, 0, 0], [0, 0, 0]], [[0, 0, 0], [0, 0, 0], [0, 0, 0], [0, 0, 0]]]"
      ]
     },
     "execution_count": 38,
     "metadata": {},
     "output_type": "execute_result"
    }
   ],
   "source": [
    "let example_image = [[[0; 3]; 4]; 5];\n",
    "example_image"
   ]
  },
  {
   "cell_type": "code",
   "execution_count": 40,
   "id": "44c3a9de-bf14-4629-8750-3243d04a354c",
   "metadata": {},
   "outputs": [
    {
     "data": {
      "text/plain": [
       "5"
      ]
     },
     "execution_count": 40,
     "metadata": {},
     "output_type": "execute_result"
    }
   ],
   "source": [
    "// Let's see how we work with an array\n",
    "example_image.len()"
   ]
  },
  {
   "cell_type": "code",
   "execution_count": 41,
   "id": "65595f2f-b836-47c4-88b5-c3c4a9f5dd60",
   "metadata": {},
   "outputs": [
    {
     "data": {
      "text/plain": [
       "4"
      ]
     },
     "execution_count": 41,
     "metadata": {},
     "output_type": "execute_result"
    }
   ],
   "source": [
    "example_image[0].len()"
   ]
  },
  {
   "cell_type": "code",
   "execution_count": 43,
   "id": "a8a5cd24-889c-4eb9-82c9-72b9f0a4748e",
   "metadata": {},
   "outputs": [
    {
     "data": {
      "text/plain": [
       "[0, 0, 0]"
      ]
     },
     "execution_count": 43,
     "metadata": {},
     "output_type": "execute_result"
    }
   ],
   "source": [
    "example_image[0][1]"
   ]
  },
  {
   "cell_type": "code",
   "execution_count": 45,
   "id": "93477be6-65cc-45b0-8c9c-7c37073481c5",
   "metadata": {},
   "outputs": [
    {
     "ename": "Error",
     "evalue": "cannot index into a value of type `DynamicImage`",
     "output_type": "error",
     "traceback": [
      "",
      "cannot index into a value of type `DynamicImage`"
     ]
    }
   ],
   "source": [
    "img[(1, 0)]\n",
    "// hm"
   ]
  },
  {
   "cell_type": "code",
   "execution_count": 46,
   "id": "ee670295-4ecd-4315-875f-09bc00328170",
   "metadata": {},
   "outputs": [
    {
     "data": {
      "text/plain": [
       "Rgb8"
      ]
     },
     "execution_count": 46,
     "metadata": {},
     "output_type": "execute_result"
    }
   ],
   "source": [
    "img.color()"
   ]
  },
  {
   "cell_type": "markdown",
   "id": "2f1deb31-52fa-4371-b706-6129daed58b7",
   "metadata": {},
   "source": [
    "---\n",
    "\n",
    "## Okay, let's map our colors to integers.\n",
    "\n",
    "We have R, G, B, black, and white pixels in our image.\n",
    "\n",
    "Let's define:\n",
    "\n",
    "1. Red is contiguous on ortho and diag\n",
    "2. Blue and green are one class, and are contiguous on ortho\n",
    "3. White is contiguous on diagonal\n",
    "4. Black is not included\n",
    "\n",
    "But, very first, let's start by mapping these colors to an array."
   ]
  },
  {
   "cell_type": "code",
   "execution_count": null,
   "id": "5e4fd48f-42be-4795-b6da-c994612ae387",
   "metadata": {},
   "outputs": [],
   "source": []
  }
 ],
 "metadata": {
  "kernelspec": {
   "display_name": "Rust",
   "language": "rust",
   "name": "rust"
  },
  "language_info": {
   "codemirror_mode": "rust",
   "file_extension": ".rs",
   "mimetype": "text/rust",
   "name": "Rust",
   "pygment_lexer": "rust",
   "version": ""
  }
 },
 "nbformat": 4,
 "nbformat_minor": 5
}
